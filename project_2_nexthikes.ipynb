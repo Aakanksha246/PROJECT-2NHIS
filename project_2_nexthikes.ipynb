{
  "nbformat": 4,
  "nbformat_minor": 0,
  "metadata": {
    "colab": {
      "provenance": []
    },
    "kernelspec": {
      "name": "python3",
      "display_name": "Python 3"
    },
    "language_info": {
      "name": "python"
    }
  },
  "cells": [
    {
      "cell_type": "code",
      "execution_count": null,
      "metadata": {
        "id": "X3dUtr1Y_Q31"
      },
      "outputs": [],
      "source": [
        "import pandas as pd\n",
        "import numpy as np\n",
        "import matplotlib.pyplot as plt\n",
        "import seaborn as sns\n",
        "import warnings\n",
        "warnings.filterwarnings(\"ignore\")\n",
        "from sklearn.model_selection import train_test_split\n",
        "from sklearn.ensemble import RandomForestRegressor\n",
        "from sklearn.metrics import mean_absolute_error, mean_squared_error, r2_score"
      ]
    },
    {
      "cell_type": "code",
      "source": [
        "file_path_1 = \"/content/nexthikes/dataset_1.xlsx\""
      ],
      "metadata": {
        "id": "-Hmxdtg9AATw"
      },
      "execution_count": null,
      "outputs": []
    },
    {
      "cell_type": "code",
      "source": [
        "df= pd.read_excel(file_path_1)"
      ],
      "metadata": {
        "id": "FaHa0Dq0AAQc"
      },
      "execution_count": null,
      "outputs": []
    },
    {
      "cell_type": "code",
      "source": [
        "df.head()"
      ],
      "metadata": {
        "id": "Wl6T3-zzAAN1"
      },
      "execution_count": null,
      "outputs": []
    },
    {
      "cell_type": "code",
      "source": [
        "df.info()"
      ],
      "metadata": {
        "id": "3OEWD-SHAALg"
      },
      "execution_count": null,
      "outputs": []
    },
    {
      "cell_type": "code",
      "source": [
        "df.describe()"
      ],
      "metadata": {
        "id": "ZWoJzSdtAAI4"
      },
      "execution_count": null,
      "outputs": []
    },
    {
      "cell_type": "code",
      "source": [
        "# Convert 'dteday' to datetime format\n",
        "df['dteday'] = pd.to_datetime(df['dteday'])"
      ],
      "metadata": {
        "id": "0HfEGdWhAAGB"
      },
      "execution_count": null,
      "outputs": []
    },
    {
      "cell_type": "code",
      "source": [
        "# Convert 'holiday' to boolean values\n",
        "df['holiday'] = df['holiday'].astype(bool)"
      ],
      "metadata": {
        "id": "RN8b1EYfAADJ"
      },
      "execution_count": null,
      "outputs": []
    },
    {
      "cell_type": "code",
      "source": [
        "# Normalize 'temp' (assuming it's scaled between 0 and 1, rescale if necessary)\n",
        "df['temp'] = df['temp'] * 41  # Assuming temp was normalized based on a max of 41°C"
      ],
      "metadata": {
        "id": "FLbLjaY3AAAw"
      },
      "execution_count": null,
      "outputs": []
    },
    {
      "cell_type": "code",
      "source": [
        "# Drop unnecessary columns\n",
        "#df.drop(columns=['instant'], inplace=True)"
      ],
      "metadata": {
        "id": "dTnTINhN__9y"
      },
      "execution_count": null,
      "outputs": []
    },
    {
      "cell_type": "code",
      "source": [
        "df.isnull().sum()"
      ],
      "metadata": {
        "id": "SIYatMeJ__7A"
      },
      "execution_count": null,
      "outputs": []
    },
    {
      "cell_type": "code",
      "source": [
        "#drop row with missing values\n",
        "df_cleaned = df.dropna()"
      ],
      "metadata": {
        "id": "DXpkWjHU__3G"
      },
      "execution_count": null,
      "outputs": []
    },
    {
      "cell_type": "code",
      "source": [
        "df_cleaned.info()"
      ],
      "metadata": {
        "id": "1BoJPxmM__0k"
      },
      "execution_count": null,
      "outputs": []
    },
    {
      "cell_type": "code",
      "source": [
        "df_cleaned.isnull().sum()"
      ],
      "metadata": {
        "id": "25IuLtxoA0My"
      },
      "execution_count": null,
      "outputs": []
    },
    {
      "cell_type": "code",
      "source": [
        "plt.figure(figsize=(12, 5))\n",
        "sns.lineplot(x=df_cleaned['dteday'], y=df_cleaned['temp'])\n",
        "plt.title(\"Temperature Trend Over Time\")\n",
        "plt.xlabel(\"Date\")\n",
        "plt.ylabel(\"Temperature (°C)\")\n",
        "plt.xticks(rotation=45)\n",
        "plt.show()\n"
      ],
      "metadata": {
        "id": "Ulx2nDBTA0JZ"
      },
      "execution_count": null,
      "outputs": []
    },
    {
      "cell_type": "code",
      "source": [
        "plt.figure(figsize=(10, 5))\n",
        "sns.boxplot(x=df_cleaned['hr'], y=df_cleaned['temp'], palette=\"coolwarm\")\n",
        "plt.title(\"Hourly Temperature Variation\")\n",
        "plt.xlabel(\"Hour of the Day\")\n",
        "plt.ylabel(\"Temperature (°C)\")\n",
        "plt.show()\n"
      ],
      "metadata": {
        "id": "vS8rg-qvA0Ga"
      },
      "execution_count": null,
      "outputs": []
    },
    {
      "cell_type": "code",
      "source": [
        "plt.figure(figsize=(8, 5))\n",
        "sns.countplot(x=df['weathersit'], palette=\"viridis\")\n",
        "plt.title(\"Weather Conditions Distribution\")\n",
        "plt.xlabel(\"Weather Condition\")\n",
        "plt.ylabel(\"Count\")\n",
        "plt.xticks(rotation=45)\n",
        "plt.show()\n"
      ],
      "metadata": {
        "id": "Wfrz2wgPA0Dy"
      },
      "execution_count": null,
      "outputs": []
    },
    {
      "cell_type": "code",
      "source": [
        "plt.figure(figsize=(10, 5))\n",
        "sns.boxplot(x=df_cleaned['season'], y=df_cleaned['temp'], palette=\"Set2\")\n",
        "plt.title(\"Seasonal Temperature Distribution\")\n",
        "plt.xlabel(\"Season\")\n",
        "plt.ylabel(\"Temperature (°C)\")\n",
        "plt.show()\n"
      ],
      "metadata": {
        "id": "zABg0kSkA0A3"
      },
      "execution_count": null,
      "outputs": []
    },
    {
      "cell_type": "code",
      "source": [
        "#dataset 2\n",
        "\n",
        "file_path_2 = \"/content/nexthikes/dataset_2.xlsx\""
      ],
      "metadata": {
        "id": "nx8uMWNnAz-a"
      },
      "execution_count": null,
      "outputs": []
    },
    {
      "cell_type": "code",
      "source": [
        "df1= pd.read_excel(file_path_2)"
      ],
      "metadata": {
        "id": "RzYUhJQ0Az7s"
      },
      "execution_count": null,
      "outputs": []
    },
    {
      "cell_type": "code",
      "source": [
        "df1.info()"
      ],
      "metadata": {
        "id": "y0sMtj_9Az5b"
      },
      "execution_count": null,
      "outputs": []
    },
    {
      "cell_type": "code",
      "source": [
        "# Drop unnecessary columns and fill missing values\n",
        "df1.drop(columns=[\"Unnamed: 0\"])\n",
        "df1[\"atemp\"].fillna(df1[\"atemp\"].median(), inplace=True)"
      ],
      "metadata": {
        "id": "IXR9M_CTAz2m"
      },
      "execution_count": null,
      "outputs": []
    },
    {
      "cell_type": "code",
      "source": [
        "# Check for duplicates\n",
        "duplicates = df1.duplicated().sum()\n",
        "print(f\"Number of duplicate rows: {duplicates}\")\n"
      ],
      "metadata": {
        "id": "u7g7VJ9oAz0B"
      },
      "execution_count": null,
      "outputs": []
    },
    {
      "cell_type": "code",
      "source": [
        "# Summary statistics\n",
        "print(\"\\nSummary Statistics:\\n\", df1.describe())\n"
      ],
      "metadata": {
        "id": "hHRjsScEAzxy"
      },
      "execution_count": null,
      "outputs": []
    },
    {
      "cell_type": "code",
      "source": [
        "# Set style for plots\n",
        "sns.set_style(\"whitegrid\")\n"
      ],
      "metadata": {
        "id": "31FbDN4ZAzvG"
      },
      "execution_count": null,
      "outputs": []
    },
    {
      "cell_type": "code",
      "source": [
        "# Plot distributions of numerical columns\n",
        "fig, axes = plt.subplots(2, 2, figsize=(12, 10))\n"
      ],
      "metadata": {
        "id": "YERdHVKIAzst"
      },
      "execution_count": null,
      "outputs": []
    },
    {
      "cell_type": "code",
      "source": [
        "sns.histplot(df1['atemp'], bins=30, kde=True, ax=axes[0, 0])\n",
        "axes[0, 0].set_title('Distribution of Adjusted Temperature (atemp)')"
      ],
      "metadata": {
        "id": "OYKtLZbXDDY7"
      },
      "execution_count": null,
      "outputs": []
    },
    {
      "cell_type": "code",
      "source": [
        "sns.histplot(df1['hum'], bins=30, kde=True, ax=axes[0, 1])\n",
        "axes[0, 1].set_title('Distribution of Humidity')"
      ],
      "metadata": {
        "id": "6_u9XGnbDDV1"
      },
      "execution_count": null,
      "outputs": []
    },
    {
      "cell_type": "code",
      "source": [
        "sns.histplot(df1['windspeed'], bins=30, kde=True, ax=axes[1, 0])\n",
        "axes[1, 0].set_title('Distribution of Wind Speed')\n"
      ],
      "metadata": {
        "id": "8D4hA01uDDSd"
      },
      "execution_count": null,
      "outputs": []
    },
    {
      "cell_type": "code",
      "source": [
        "sns.histplot(df1['cnt'], bins=30, kde=True, ax=axes[1, 1], color='red')\n",
        "axes[1, 1].set_title('Distribution of Total Users (cnt)')\n"
      ],
      "metadata": {
        "id": "TS8RBNhCDDPd"
      },
      "execution_count": null,
      "outputs": []
    },
    {
      "cell_type": "code",
      "source": [
        "plt.tight_layout()\n",
        "plt.show()\n"
      ],
      "metadata": {
        "id": "XqG7j-W-DDMc"
      },
      "execution_count": null,
      "outputs": []
    },
    {
      "cell_type": "code",
      "source": [
        "combined_data = pd.merge(df_cleaned, df1, on=\"instant\", how=\"outer\")"
      ],
      "metadata": {
        "id": "Xxfp0L0lDDJ5"
      },
      "execution_count": null,
      "outputs": []
    },
    {
      "cell_type": "code",
      "source": [
        "combined_data.info()"
      ],
      "metadata": {
        "id": "0E8AvlQxDDHY"
      },
      "execution_count": null,
      "outputs": []
    },
    {
      "cell_type": "code",
      "source": [
        "# Drop unnecessary columns\n",
        "combined_data = combined_data.loc[:, ~combined_data.columns.str.contains('^Unnamed')]"
      ],
      "metadata": {
        "id": "UO9_x1QpDDEn"
      },
      "execution_count": null,
      "outputs": []
    },
    {
      "cell_type": "code",
      "source": [
        "# Treat missing values\n",
        "combined_data.fillna(combined_data.median(numeric_only=True), inplace=True)"
      ],
      "metadata": {
        "id": "qujeYK1SDDB6"
      },
      "execution_count": null,
      "outputs": []
    },
    {
      "cell_type": "code",
      "source": [
        "# Validate data correctness\n",
        "for col in ['temp', 'humidity', 'windspeed', 'casual', 'registered', 'count']:\n",
        "    if col in combined_data.columns:\n",
        "        combined_data[col] = combined_data[col].apply(lambda x: np.nan if x < 0 else x)\n"
      ],
      "metadata": {
        "id": "JX_VW6KCEm7T"
      },
      "execution_count": null,
      "outputs": []
    },
    {
      "cell_type": "code",
      "source": [
        "# Central Tendency\n",
        "combined_data.describe()\n"
      ],
      "metadata": {
        "id": "wtYIxqFBEm31"
      },
      "execution_count": null,
      "outputs": []
    },
    {
      "cell_type": "code",
      "source": [
        "#Data Acquisition and Wrangling on Dataset 3\n",
        "combined_data.isnull().sum()"
      ],
      "metadata": {
        "id": "Q3-ngjGSEm1S"
      },
      "execution_count": null,
      "outputs": []
    },
    {
      "cell_type": "code",
      "source": [
        "combined_data = combined_data.dropna()"
      ],
      "metadata": {
        "id": "xLf3TLA4Emyd"
      },
      "execution_count": null,
      "outputs": []
    },
    {
      "cell_type": "code",
      "source": [
        "combined_data.isnull().sum()"
      ],
      "metadata": {
        "id": "7sJJltlcEmvK"
      },
      "execution_count": null,
      "outputs": []
    },
    {
      "cell_type": "code",
      "source": [
        "# Check for duplicates\n",
        "duplicates = combined_data.duplicated().sum()\n",
        "print(f\"Number of duplicate rows: {duplicates}\")\n"
      ],
      "metadata": {
        "id": "oXeWXDNoEmsM"
      },
      "execution_count": null,
      "outputs": []
    },
    {
      "cell_type": "code",
      "source": [
        "# Summary statistics\n",
        "print(\"\\nSummary Statistics:\\n\", combined_data.describe())\n"
      ],
      "metadata": {
        "id": "qMYJfkSuEmow"
      },
      "execution_count": null,
      "outputs": []
    },
    {
      "cell_type": "code",
      "source": [
        "# Set style for plots\n",
        "sns.set_style(\"whitegrid\")\n"
      ],
      "metadata": {
        "id": "PggffXxAEml7"
      },
      "execution_count": null,
      "outputs": []
    },
    {
      "cell_type": "code",
      "source": [
        "sns.histplot(combined_data['atemp'], bins=30, kde=True, ax=axes[0, 0])\n",
        "axes[0, 0].set_title('Distribution of Adjusted Temperature (atemp)')\n"
      ],
      "metadata": {
        "id": "RzRbvNRwEmjZ"
      },
      "execution_count": null,
      "outputs": []
    },
    {
      "cell_type": "code",
      "source": [
        "sns.histplot(combined_data['hum'], bins=30, kde=True, ax=axes[0, 1])\n",
        "axes[0, 1].set_title('Distribution of Humidity')\n"
      ],
      "metadata": {
        "id": "tTJ3yyNBEmgh"
      },
      "execution_count": null,
      "outputs": []
    },
    {
      "cell_type": "code",
      "source": [
        "sns.histplot(combined_data['windspeed'], bins=30, kde=True, ax=axes[1, 0])\n",
        "axes[1, 0].set_title('Distribution of Wind Speed')\n"
      ],
      "metadata": {
        "id": "Isy0rumIF0jM"
      },
      "execution_count": null,
      "outputs": []
    },
    {
      "cell_type": "code",
      "source": [
        "sns.histplot(combined_data['cnt'], bins=30, kde=True, ax=axes[1, 1], color='red')\n",
        "axes[1, 1].set_title('Distribution of Total Users (cnt)')\n"
      ],
      "metadata": {
        "id": "wgKdZbiNF0f0"
      },
      "execution_count": null,
      "outputs": []
    },
    {
      "cell_type": "code",
      "source": [
        "plt.tight_layout()\n",
        "plt.show()\n"
      ],
      "metadata": {
        "id": "bOvjEF7zF0dS"
      },
      "execution_count": null,
      "outputs": []
    },
    {
      "cell_type": "code",
      "source": [
        "combined_data.to_csv('combined_data.csv', index=False)"
      ],
      "metadata": {
        "id": "sOA68IZPF0ap"
      },
      "execution_count": null,
      "outputs": []
    },
    {
      "cell_type": "code",
      "source": [
        "#dataset 3\n",
        "dataset_3=pd.read_excel('/content/nexthikes/dataset_3.xlsx')"
      ],
      "metadata": {
        "id": "NBW8-VXZF0Xz"
      },
      "execution_count": null,
      "outputs": []
    },
    {
      "cell_type": "code",
      "source": [
        "dataset_3.info()"
      ],
      "metadata": {
        "id": "z3R18An8F0VA"
      },
      "execution_count": null,
      "outputs": []
    },
    {
      "cell_type": "code",
      "source": [
        "dataset_3.describe()"
      ],
      "metadata": {
        "id": "Zf_xETDfF0SP"
      },
      "execution_count": null,
      "outputs": []
    },
    {
      "cell_type": "code",
      "source": [
        "# Convert 'dteday' to datetime format\n",
        "dataset_3['dteday'] = pd.to_datetime(dataset_3['dteday'])"
      ],
      "metadata": {
        "id": "zt6daxpiHn-Y"
      },
      "execution_count": null,
      "outputs": []
    },
    {
      "cell_type": "code",
      "source": [
        "# Replace categorical values with meaningful labels\n",
        "season_mapping = {1: 'Spring', 2: 'Summer', 3: 'Fall', 4: 'Winter'}\n",
        "dataset_3['season'] = dataset_3['season'].map(season_mapping)"
      ],
      "metadata": {
        "id": "oM11COrqHn7e"
      },
      "execution_count": null,
      "outputs": []
    },
    {
      "cell_type": "code",
      "source": [
        "weekday_mapping = {0: 'Sunday', 1: 'Monday', 2: 'Tuesday', 3: 'Wednesday',\n",
        "                   4: 'Thursday', 5: 'Friday', 6: 'Saturday'}\n",
        "dataset_3['weekday'] = dataset_3['weekday'].map(weekday_mapping)"
      ],
      "metadata": {
        "id": "_zIKzX_5Hn4l"
      },
      "execution_count": null,
      "outputs": []
    },
    {
      "cell_type": "code",
      "source": [
        "weather_mapping = {1: 'Clear', 2: 'Cloudy', 3: 'Light Rain', 4: 'Heavy Rain'}\n",
        "dataset_3['weathersit'] = dataset_3['weathersit'].map(weather_mapping)"
      ],
      "metadata": {
        "id": "McVH_HW0Hn1j"
      },
      "execution_count": null,
      "outputs": []
    },
    {
      "cell_type": "code",
      "source": [
        "# Convert 'holiday' to boolean values\n",
        "dataset_3['holiday'] = dataset_3['holiday'].astype(bool)"
      ],
      "metadata": {
        "id": "OeIGF9GNHnzX"
      },
      "execution_count": null,
      "outputs": []
    },
    {
      "cell_type": "code",
      "source": [
        "# Normalize 'temp' (assuming it's scaled between 0 and 1, rescale if necessary)\n",
        "dataset_3['temp'] = dataset_3['temp'] * 41  # Assuming temp was normalized based on a max of 41°C"
      ],
      "metadata": {
        "id": "RQnVboJFHnwj"
      },
      "execution_count": null,
      "outputs": []
    },
    {
      "cell_type": "code",
      "source": [
        "# Drop unnecessary columns\n",
        "dataset_3.drop(columns=['instant'], inplace=True)"
      ],
      "metadata": {
        "id": "sTaZP8iWHntr"
      },
      "execution_count": null,
      "outputs": []
    },
    {
      "cell_type": "code",
      "source": [
        "dataset_3.isnull().sum()"
      ],
      "metadata": {
        "id": "SbQ8aqvjHnrC"
      },
      "execution_count": null,
      "outputs": []
    },
    {
      "cell_type": "code",
      "source": [
        "#drop row with missing values\n",
        "df_cleaned3 = dataset_3.dropna()"
      ],
      "metadata": {
        "id": "-iEV1xvRH_n0"
      },
      "execution_count": null,
      "outputs": []
    },
    {
      "cell_type": "code",
      "source": [
        "df_cleaned3.head()"
      ],
      "metadata": {
        "id": "9aN6S9AVH_kj"
      },
      "execution_count": null,
      "outputs": []
    },
    {
      "cell_type": "code",
      "source": [
        "#1. Temperature Trend Over Time\n",
        "plt.figure(figsize=(12, 5))\n",
        "sns.lineplot(x=df_cleaned3['dteday'], y=df_cleaned3['temp'])\n",
        "plt.title(\"Temperature Trend Over Time\")\n",
        "plt.xlabel(\"Date\")\n",
        "plt.ylabel(\"Temperature (°C)\")\n",
        "plt.xticks(rotation=45)\n",
        "plt.show()\n",
        "\n"
      ],
      "metadata": {
        "id": "mwAC52irH_hz"
      },
      "execution_count": null,
      "outputs": []
    },
    {
      "cell_type": "code",
      "source": [
        "# Hourly Temperature Variation\n",
        "plt.figure(figsize=(10, 5))\n",
        "sns.boxplot(x=df_cleaned3['hr'], y=df_cleaned3['temp'], palette=\"coolwarm\")\n",
        "plt.title(\"Hourly Temperature Variation\")\n",
        "plt.xlabel(\"Hour of the Day\")\n",
        "plt.ylabel(\"Temperature (°C)\")\n",
        "plt.show()\n"
      ],
      "metadata": {
        "id": "Nxd9Q8H-H_e_"
      },
      "execution_count": null,
      "outputs": []
    },
    {
      "cell_type": "code",
      "source": [
        "# 3. Weather Conditions Distribution\n",
        "plt.figure(figsize=(8, 5))\n",
        "sns.countplot(x=df_cleaned3['weathersit'], palette=\"viridis\")\n",
        "plt.title(\"Weather Conditions Distribution\")\n",
        "plt.xlabel(\"Weather Condition\")\n",
        "plt.ylabel(\"Count\")\n",
        "plt.xticks(rotation=45)\n",
        "plt.show()\n"
      ],
      "metadata": {
        "id": "q0qgeD67H_cP"
      },
      "execution_count": null,
      "outputs": []
    },
    {
      "cell_type": "code",
      "source": [
        "# 4. Seasonal Temperature Distribution\n",
        "plt.figure(figsize=(10, 5))\n",
        "sns.boxplot(x=df_cleaned3['season'], y=df_cleaned3['temp'], palette=\"Set2\")\n",
        "plt.title(\"Seasonal Temperature Distribution\")\n",
        "plt.xlabel(\"Season\")\n",
        "plt.ylabel(\"Temperature (°C)\")\n",
        "plt.show()\n"
      ],
      "metadata": {
        "id": "Kz0uu8tlH_ZX"
      },
      "execution_count": null,
      "outputs": []
    },
    {
      "cell_type": "code",
      "source": [
        "final_combined_data = pd.concat([combined_data, df_cleaned3])\n",
        "final_combined_data = final_combined_data.drop_duplicates()\n"
      ],
      "metadata": {
        "id": "OOw_sJBIH_Wn"
      },
      "execution_count": null,
      "outputs": []
    },
    {
      "cell_type": "code",
      "source": [
        "combined_data.to_csv('combined_data1-2.csv', index=False)\n"
      ],
      "metadata": {
        "id": "4hs-WMGqH_Tr"
      },
      "execution_count": null,
      "outputs": []
    },
    {
      "cell_type": "code",
      "source": [
        "final_combined_data.info()"
      ],
      "metadata": {
        "id": "LSlBixGpH_Qn"
      },
      "execution_count": null,
      "outputs": []
    },
    {
      "cell_type": "code",
      "source": [
        "# Fill missing values\n",
        "final_combined_data.fillna(final_combined_data.median(numeric_only=True), inplace=True)\n"
      ],
      "metadata": {
        "id": "T0bmu_STIaWh"
      },
      "execution_count": null,
      "outputs": []
    },
    {
      "cell_type": "code",
      "source": [
        "# Outlier Removal\n",
        "def remove_outliers(df, columns):\n",
        "    for col in columns:\n",
        "        Q1 = df[col].quantile(0.25)\n",
        "        Q3 = df[col].quantile(0.75)\n",
        "        IQR = Q3 - Q1\n",
        "        lower_bound = Q1 - 1.5 * IQR\n",
        "        upper_bound = Q3 + 1.5 * IQR\n",
        "        df = df[(df[col] >= lower_bound) & (df[col] <= upper_bound)]\n",
        "    return df\n"
      ],
      "metadata": {
        "id": "5yfRfulcIaTA"
      },
      "execution_count": null,
      "outputs": []
    },
    {
      "cell_type": "code",
      "source": [
        "numerical_cols = final_combined_data.select_dtypes(include=np.number).columns.tolist()\n",
        "final_combined_data = remove_outliers(final_combined_data, numerical_cols)\n"
      ],
      "metadata": {
        "id": "_OWs3FD1IaP-"
      },
      "execution_count": null,
      "outputs": []
    },
    {
      "cell_type": "code",
      "source": [
        "# Skewness\n",
        "skewness = final_combined_data[numerical_cols].skew()\n",
        "print(skewness)\n"
      ],
      "metadata": {
        "id": "GO_xgzOLIaNQ"
      },
      "execution_count": null,
      "outputs": []
    },
    {
      "cell_type": "code",
      "source": [
        "# Skewness plot\n",
        "plt.figure(figsize=(12,6))\n",
        "sns.barplot(x=skewness.index, y=skewness.values)\n",
        "plt.title('Skewness of Numerical Features')\n",
        "plt.ylabel('Skewness')\n",
        "plt.xticks(rotation=45)\n",
        "plt.show()\n"
      ],
      "metadata": {
        "id": "CYDd_L1qIaKZ"
      },
      "execution_count": null,
      "outputs": []
    },
    {
      "cell_type": "code",
      "source": [
        "#correlation matrix\n",
        "numerical_cols = final_combined_data.select_dtypes(include=np.number).columns\n",
        "correlation = final_combined_data[numerical_cols].corr()\n",
        "correlation = correlation.dropna(axis=1,how=\"all\").dropna(axis=0,how=\"all\")\n",
        "print (correlation)\n"
      ],
      "metadata": {
        "id": "8BWorFU7IaHn"
      },
      "execution_count": null,
      "outputs": []
    },
    {
      "cell_type": "code",
      "source": [
        "# Heatmap\n",
        "plt.figure(figsize=(14,10))\n",
        "sns.heatmap(correlation, annot=True, cmap='coolwarm', fmt=\".2f\")\n",
        "plt.title('Correlation Matrix')\n",
        "plt.show()\n"
      ],
      "metadata": {
        "id": "I7HDyLKcJDlJ"
      },
      "execution_count": null,
      "outputs": []
    },
    {
      "cell_type": "code",
      "source": [
        "# Save the final cleaned dataset\n",
        "final_combined_data.to_csv('final_combined_data.csv', index=False)\n"
      ],
      "metadata": {
        "id": "X7NrB-KjJDho"
      },
      "execution_count": null,
      "outputs": []
    }
  ]
}